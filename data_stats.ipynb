{
 "cells": [
  {
   "cell_type": "code",
   "execution_count": 1,
   "metadata": {
    "collapsed": false
   },
   "outputs": [
    {
     "name": "stderr",
     "output_type": "stream",
     "text": [
      "Using TensorFlow backend.\n"
     ]
    }
   ],
   "source": [
    "import pandas as pd\n",
    "import pickle\n",
    "from keras.preprocessing.text import Tokenizer\n",
    "from __future__ import division\n",
    "import numpy as np\n",
    "import matplotlib.pyplot as plt\n",
    "import numpy as np\n",
    "from swa import Transcript"
   ]
  },
  {
   "cell_type": "markdown",
   "metadata": {},
   "source": [
    "# Transform raw data"
   ]
  },
  {
   "cell_type": "code",
   "execution_count": 2,
   "metadata": {
    "collapsed": true
   },
   "outputs": [],
   "source": [
    "trans=Transcript('../data/raw_data/merged.csv')"
   ]
  },
  {
   "cell_type": "markdown",
   "metadata": {},
   "source": [
    "# Extract text and act_tag from raw data"
   ]
  },
  {
   "cell_type": "code",
   "execution_count": 50,
   "metadata": {
    "collapsed": false
   },
   "outputs": [],
   "source": [
    "data=[]\n",
    "for i in xrange(len(trans.utterances)):\n",
    "    utt=trans.utterances[i]\n",
    "    text=' '.join(utt.pos_words())\n",
    "    #temp.append(utt.pos_words(wn_lemmatize=True))\n",
    "    labels=utt.damsl_act_tag()\n",
    "    data.append([text,labels])"
   ]
  },
  {
   "cell_type": "markdown",
   "metadata": {},
   "source": [
    "# Full names of the labels"
   ]
  },
  {
   "cell_type": "code",
   "execution_count": 51,
   "metadata": {
    "collapsed": false
   },
   "outputs": [],
   "source": [
    "names={}\n",
    "names['sd']='Statement-non-opinion'\n",
    "names['b']='Acknowledge (Backchannel)'\n",
    "names['sv']='Statement-opinion'\n",
    "names['%']='Abandoned or Turn-Exit'\n",
    "names['aa']='Agree/Accept'\n",
    "\n",
    "names['ba']='Appreciation'\n",
    "names['qy']='Yes-No-Question'\n",
    "names['x']='Non-verbal'\n",
    "names['ny']='Yes answers'\n",
    "names['fc']='Conventional-closing'\n",
    "\n",
    "names['qw']='Wh-Question'\n",
    "names['nn']='No answers'\n",
    "names['bk']='Response Acknowledgement'\n",
    "names['h']='Hedge'\n",
    "names['qy^d']='Declarative Yes-No-Question'\n",
    "\n",
    "names['bh']='Backchannel in question form'\n",
    "names['^q']='Quotation'\n",
    "names['bf']='Summarize/reformulate'\n",
    "names['fo_o_fw_\"_by_bc']='Other'\n",
    "names['na']='Affirmative non-yes answers'\n",
    "\n",
    "names['ad']='Action-directive'\n",
    "names['^2']='Collaborative Completion'\n",
    "names['b^m']='Repeat-phrase'\n",
    "names['qo']='Open-Question'\n",
    "names['qh']='Rhetorical-Questions'\n",
    "\n",
    "names['^h']='Hold before answer/agreement'\n",
    "names['ar']='Reject'\n",
    "names['ng']='Negative non-no answers'\n",
    "names['br']='Signal-non-understandin'\n",
    "names['no']='Other answers'\n",
    "\n",
    "names['fp']='Conventional-opening'\n",
    "names['qrr']='Or-Clause'\n",
    "names['arp_nd']='Dispreferred answers'\n",
    "names['t3']='3rd-party-talk'\n",
    "names['oo_co_cc']='Offers, Options, Commits'\n",
    "\n",
    "names['aap_am']='Maybe/Accept-part'\n",
    "names['qrr']='Or-Clause'\n",
    "names['arp_nd']='Dispreferred answers'\n",
    "names['t1']='Self-talk'\n",
    "names['bd']='Downplayer'\n",
    "\n",
    "names['^g']='Tag-Question'\n",
    "names['qw^d']='Declarative Wh-Question'\n",
    "names['fa']='Apology'\n",
    "names['ft']='Self-talk'\n",
    "names['+']='Segment (multi-utterance)'###############\n",
    "names['']='other'################\n",
    "names['act_tag']='other'############"
   ]
  },
  {
   "cell_type": "code",
   "execution_count": 52,
   "metadata": {
    "collapsed": false
   },
   "outputs": [],
   "source": [
    "for i in xrange(len(data)):\n",
    "    data[i][1]=names[data[i][1]]"
   ]
  },
  {
   "cell_type": "code",
   "execution_count": 53,
   "metadata": {
    "collapsed": false
   },
   "outputs": [],
   "source": [
    "# f=open('../data/data.pkl','wb')\n",
    "# pickle.dump(data,f)\n",
    "# f.close()"
   ]
  },
  {
   "cell_type": "code",
   "execution_count": 54,
   "metadata": {
    "collapsed": false
   },
   "outputs": [],
   "source": [
    "reduced_label_set=['Statement-non-opinion','Acknowledge (Backchannel)','Statement-opinion','Yes-No-Question','Non-verbal','Yes answers','Wh-Question','No answers','Hedge','Declarative Wh-Question','Apology','Self-talk']\n",
    "for i in xrange(len(data)):\n",
    "    if(data[i][1] not in reduced_label_set):\n",
    "        data[i][1]='rest'"
   ]
  },
  {
   "cell_type": "code",
   "execution_count": 55,
   "metadata": {
    "collapsed": false
   },
   "outputs": [],
   "source": [
    "f=open('../data/reduced_data.pkl','wb')\n",
    "pickle.dump(data,f)\n",
    "f.close()"
   ]
  },
  {
   "cell_type": "code",
   "execution_count": 56,
   "metadata": {
    "collapsed": true
   },
   "outputs": [],
   "source": [
    "data_df=pd.DataFrame(data,columns=['data','labels'])"
   ]
  },
  {
   "cell_type": "code",
   "execution_count": 57,
   "metadata": {
    "collapsed": false
   },
   "outputs": [
    {
     "data": {
      "text/plain": [
       "'rest'"
      ]
     },
     "execution_count": 57,
     "metadata": {},
     "output_type": "execute_result"
    }
   ],
   "source": [
    "data_df['labels'][111]"
   ]
  },
  {
   "cell_type": "markdown",
   "metadata": {},
   "source": [
    "# removing the other field statements"
   ]
  },
  {
   "cell_type": "code",
   "execution_count": 58,
   "metadata": {
    "collapsed": false
   },
   "outputs": [],
   "source": [
    "data_df=data_df.drop((np.where(data_df['labels']=='other')[0]))\n",
    "data_df.index=range(len(data_df))"
   ]
  },
  {
   "cell_type": "code",
   "execution_count": 59,
   "metadata": {
    "collapsed": false
   },
   "outputs": [],
   "source": [
    "data_df.to_pickle('../data/data.pkl')"
   ]
  },
  {
   "cell_type": "code",
   "execution_count": 60,
   "metadata": {
    "collapsed": false
   },
   "outputs": [
    {
     "data": {
      "text/html": [
       "<div>\n",
       "<table border=\"1\" class=\"dataframe\">\n",
       "  <thead>\n",
       "    <tr style=\"text-align: right;\">\n",
       "      <th></th>\n",
       "      <th>data</th>\n",
       "      <th>labels</th>\n",
       "    </tr>\n",
       "  </thead>\n",
       "  <tbody>\n",
       "    <tr>\n",
       "      <th>0</th>\n",
       "      <td>Okay .</td>\n",
       "      <td>rest</td>\n",
       "    </tr>\n",
       "    <tr>\n",
       "      <th>1</th>\n",
       "      <td>So ,</td>\n",
       "      <td>Wh-Question</td>\n",
       "    </tr>\n",
       "    <tr>\n",
       "      <th>2</th>\n",
       "      <td>I guess ,</td>\n",
       "      <td>rest</td>\n",
       "    </tr>\n",
       "    <tr>\n",
       "      <th>3</th>\n",
       "      <td>What kind of experience do you , do you have ,...</td>\n",
       "      <td>rest</td>\n",
       "    </tr>\n",
       "    <tr>\n",
       "      <th>4</th>\n",
       "      <td>I think , uh , I wonder if that worked .</td>\n",
       "      <td>rest</td>\n",
       "    </tr>\n",
       "    <tr>\n",
       "      <th>5</th>\n",
       "      <td>Does it say something ?</td>\n",
       "      <td>Yes-No-Question</td>\n",
       "    </tr>\n",
       "    <tr>\n",
       "      <th>6</th>\n",
       "      <td>I think it usually does .</td>\n",
       "      <td>Statement-non-opinion</td>\n",
       "    </tr>\n",
       "    <tr>\n",
       "      <th>7</th>\n",
       "      <td>You might try , uh ,</td>\n",
       "      <td>rest</td>\n",
       "    </tr>\n",
       "    <tr>\n",
       "      <th>8</th>\n",
       "      <td>I do n't know ,</td>\n",
       "      <td>Hedge</td>\n",
       "    </tr>\n",
       "    <tr>\n",
       "      <th>9</th>\n",
       "      <td>hold it down a little longer ,</td>\n",
       "      <td>rest</td>\n",
       "    </tr>\n",
       "    <tr>\n",
       "      <th>10</th>\n",
       "      <td>and see if it , uh ,</td>\n",
       "      <td>rest</td>\n",
       "    </tr>\n",
       "    <tr>\n",
       "      <th>11</th>\n",
       "      <td>Okay .</td>\n",
       "      <td>rest</td>\n",
       "    </tr>\n",
       "    <tr>\n",
       "      <th>12</th>\n",
       "      <td>Well ,</td>\n",
       "      <td>Yes-No-Question</td>\n",
       "    </tr>\n",
       "    <tr>\n",
       "      <th>13</th>\n",
       "      <td>Okay</td>\n",
       "      <td>Acknowledge (Backchannel)</td>\n",
       "    </tr>\n",
       "    <tr>\n",
       "      <th>14</th>\n",
       "      <td>I ,</td>\n",
       "      <td>Statement-non-opinion</td>\n",
       "    </tr>\n",
       "    <tr>\n",
       "      <th>15</th>\n",
       "      <td>Does it usually make a recording or s- ,</td>\n",
       "      <td>rest</td>\n",
       "    </tr>\n",
       "    <tr>\n",
       "      <th>16</th>\n",
       "      <td>Well , I do n't remember .</td>\n",
       "      <td>rest</td>\n",
       "    </tr>\n",
       "    <tr>\n",
       "      <th>17</th>\n",
       "      <td>It seemed like it did ,</td>\n",
       "      <td>Statement-non-opinion</td>\n",
       "    </tr>\n",
       "    <tr>\n",
       "      <th>18</th>\n",
       "      <td>but it might not .</td>\n",
       "      <td>Statement-non-opinion</td>\n",
       "    </tr>\n",
       "    <tr>\n",
       "      <th>19</th>\n",
       "      <td>I guess --</td>\n",
       "      <td>Statement-opinion</td>\n",
       "    </tr>\n",
       "    <tr>\n",
       "      <th>20</th>\n",
       "      <td>Okay .</td>\n",
       "      <td>rest</td>\n",
       "    </tr>\n",
       "    <tr>\n",
       "      <th>21</th>\n",
       "      <td>-- I guess we can start . Uh ,</td>\n",
       "      <td>rest</td>\n",
       "    </tr>\n",
       "    <tr>\n",
       "      <th>22</th>\n",
       "      <td>Okay .</td>\n",
       "      <td>rest</td>\n",
       "    </tr>\n",
       "    <tr>\n",
       "      <th>23</th>\n",
       "      <td>No ,</td>\n",
       "      <td>No answers</td>\n",
       "    </tr>\n",
       "    <tr>\n",
       "      <th>24</th>\n",
       "      <td>I do n't , I do n't have any kids .</td>\n",
       "      <td>Statement-non-opinion</td>\n",
       "    </tr>\n",
       "    <tr>\n",
       "      <th>25</th>\n",
       "      <td>I , uh , my sister has a , she just had a baby ,</td>\n",
       "      <td>Statement-non-opinion</td>\n",
       "    </tr>\n",
       "    <tr>\n",
       "      <th>26</th>\n",
       "      <td>he 's about five months old</td>\n",
       "      <td>Statement-non-opinion</td>\n",
       "    </tr>\n",
       "    <tr>\n",
       "      <th>27</th>\n",
       "      <td>and she was worrying about going back to work ...</td>\n",
       "      <td>Statement-non-opinion</td>\n",
       "    </tr>\n",
       "    <tr>\n",
       "      <th>28</th>\n",
       "      <td>Uh-huh .</td>\n",
       "      <td>Acknowledge (Backchannel)</td>\n",
       "    </tr>\n",
       "    <tr>\n",
       "      <th>29</th>\n",
       "      <td>-- the different ,</td>\n",
       "      <td>rest</td>\n",
       "    </tr>\n",
       "    <tr>\n",
       "      <th>...</th>\n",
       "      <td>...</td>\n",
       "      <td>...</td>\n",
       "    </tr>\n",
       "    <tr>\n",
       "      <th>222738</th>\n",
       "      <td>And that 's usually like , you know ,</td>\n",
       "      <td>Statement-non-opinion</td>\n",
       "    </tr>\n",
       "    <tr>\n",
       "      <th>222739</th>\n",
       "      <td>I do n't know when mine were going to Mother '...</td>\n",
       "      <td>Statement-non-opinion</td>\n",
       "    </tr>\n",
       "    <tr>\n",
       "      <th>222740</th>\n",
       "      <td>it was like from nine to three</td>\n",
       "      <td>Statement-non-opinion</td>\n",
       "    </tr>\n",
       "    <tr>\n",
       "      <th>222741</th>\n",
       "      <td>so that was a pretty good --</td>\n",
       "      <td>Statement-non-opinion</td>\n",
       "    </tr>\n",
       "    <tr>\n",
       "      <th>222742</th>\n",
       "      <td>Yeah .</td>\n",
       "      <td>Acknowledge (Backchannel)</td>\n",
       "    </tr>\n",
       "    <tr>\n",
       "      <th>222743</th>\n",
       "      <td>-- pretty good time , you know .</td>\n",
       "      <td>rest</td>\n",
       "    </tr>\n",
       "    <tr>\n",
       "      <th>222744</th>\n",
       "      <td>My baby-sitter would take them and then pick t...</td>\n",
       "      <td>Statement-non-opinion</td>\n",
       "    </tr>\n",
       "    <tr>\n",
       "      <th>222745</th>\n",
       "      <td>Yeah</td>\n",
       "      <td>Acknowledge (Backchannel)</td>\n",
       "    </tr>\n",
       "    <tr>\n",
       "      <th>222746</th>\n",
       "      <td>.</td>\n",
       "      <td>Non-verbal</td>\n",
       "    </tr>\n",
       "    <tr>\n",
       "      <th>222747</th>\n",
       "      <td>So , that worked out real good .</td>\n",
       "      <td>Acknowledge (Backchannel)</td>\n",
       "    </tr>\n",
       "    <tr>\n",
       "      <th>222748</th>\n",
       "      <td>That 's sounds good .</td>\n",
       "      <td>rest</td>\n",
       "    </tr>\n",
       "    <tr>\n",
       "      <th>222749</th>\n",
       "      <td>Well , I 'm tickled to death .</td>\n",
       "      <td>Statement-non-opinion</td>\n",
       "    </tr>\n",
       "    <tr>\n",
       "      <th>222750</th>\n",
       "      <td>I hope you find something</td>\n",
       "      <td>Statement-non-opinion</td>\n",
       "    </tr>\n",
       "    <tr>\n",
       "      <th>222751</th>\n",
       "      <td>and --</td>\n",
       "      <td>rest</td>\n",
       "    </tr>\n",
       "    <tr>\n",
       "      <th>222752</th>\n",
       "      <td>Well , thanks .</td>\n",
       "      <td>rest</td>\n",
       "    </tr>\n",
       "    <tr>\n",
       "      <th>222753</th>\n",
       "      <td>-- it was good talking to you .</td>\n",
       "      <td>rest</td>\n",
       "    </tr>\n",
       "    <tr>\n",
       "      <th>222754</th>\n",
       "      <td>Did we cover everything we need to ?</td>\n",
       "      <td>rest</td>\n",
       "    </tr>\n",
       "    <tr>\n",
       "      <th>222755</th>\n",
       "      <td>Well , I guess .</td>\n",
       "      <td>rest</td>\n",
       "    </tr>\n",
       "    <tr>\n",
       "      <th>222756</th>\n",
       "      <td>Okay .</td>\n",
       "      <td>rest</td>\n",
       "    </tr>\n",
       "    <tr>\n",
       "      <th>222757</th>\n",
       "      <td>It said child care criteria --</td>\n",
       "      <td>rest</td>\n",
       "    </tr>\n",
       "    <tr>\n",
       "      <th>222758</th>\n",
       "      <td>Okay .</td>\n",
       "      <td>rest</td>\n",
       "    </tr>\n",
       "    <tr>\n",
       "      <th>222759</th>\n",
       "      <td>-- and I think we both listed an experience .</td>\n",
       "      <td>rest</td>\n",
       "    </tr>\n",
       "    <tr>\n",
       "      <th>222760</th>\n",
       "      <td>Yeah .</td>\n",
       "      <td>rest</td>\n",
       "    </tr>\n",
       "    <tr>\n",
       "      <th>222761</th>\n",
       "      <td>Okay .</td>\n",
       "      <td>rest</td>\n",
       "    </tr>\n",
       "    <tr>\n",
       "      <th>222762</th>\n",
       "      <td>Well , great .</td>\n",
       "      <td>rest</td>\n",
       "    </tr>\n",
       "    <tr>\n",
       "      <th>222763</th>\n",
       "      <td>Well , thanks a lot .</td>\n",
       "      <td>rest</td>\n",
       "    </tr>\n",
       "    <tr>\n",
       "      <th>222764</th>\n",
       "      <td>You have a good day .</td>\n",
       "      <td>rest</td>\n",
       "    </tr>\n",
       "    <tr>\n",
       "      <th>222765</th>\n",
       "      <td>And you too .</td>\n",
       "      <td>rest</td>\n",
       "    </tr>\n",
       "    <tr>\n",
       "      <th>222766</th>\n",
       "      <td>Bye-bye .</td>\n",
       "      <td>rest</td>\n",
       "    </tr>\n",
       "    <tr>\n",
       "      <th>222767</th>\n",
       "      <td>Bye .</td>\n",
       "      <td>rest</td>\n",
       "    </tr>\n",
       "  </tbody>\n",
       "</table>\n",
       "<p>222768 rows × 2 columns</p>\n",
       "</div>"
      ],
      "text/plain": [
       "                                                     data  \\\n",
       "0                                                  Okay .   \n",
       "1                                                    So ,   \n",
       "2                                               I guess ,   \n",
       "3       What kind of experience do you , do you have ,...   \n",
       "4                I think , uh , I wonder if that worked .   \n",
       "5                                 Does it say something ?   \n",
       "6                               I think it usually does .   \n",
       "7                                    You might try , uh ,   \n",
       "8                                         I do n't know ,   \n",
       "9                          hold it down a little longer ,   \n",
       "10                                   and see if it , uh ,   \n",
       "11                                                 Okay .   \n",
       "12                                                 Well ,   \n",
       "13                                                   Okay   \n",
       "14                                                    I ,   \n",
       "15               Does it usually make a recording or s- ,   \n",
       "16                             Well , I do n't remember .   \n",
       "17                                It seemed like it did ,   \n",
       "18                                     but it might not .   \n",
       "19                                             I guess --   \n",
       "20                                                 Okay .   \n",
       "21                         -- I guess we can start . Uh ,   \n",
       "22                                                 Okay .   \n",
       "23                                                   No ,   \n",
       "24                    I do n't , I do n't have any kids .   \n",
       "25       I , uh , my sister has a , she just had a baby ,   \n",
       "26                            he 's about five months old   \n",
       "27      and she was worrying about going back to work ...   \n",
       "28                                               Uh-huh .   \n",
       "29                                     -- the different ,   \n",
       "...                                                   ...   \n",
       "222738              And that 's usually like , you know ,   \n",
       "222739  I do n't know when mine were going to Mother '...   \n",
       "222740                     it was like from nine to three   \n",
       "222741                       so that was a pretty good --   \n",
       "222742                                             Yeah .   \n",
       "222743                   -- pretty good time , you know .   \n",
       "222744  My baby-sitter would take them and then pick t...   \n",
       "222745                                               Yeah   \n",
       "222746                                                  .   \n",
       "222747                   So , that worked out real good .   \n",
       "222748                              That 's sounds good .   \n",
       "222749                     Well , I 'm tickled to death .   \n",
       "222750                          I hope you find something   \n",
       "222751                                             and --   \n",
       "222752                                    Well , thanks .   \n",
       "222753                    -- it was good talking to you .   \n",
       "222754               Did we cover everything we need to ?   \n",
       "222755                                   Well , I guess .   \n",
       "222756                                             Okay .   \n",
       "222757                     It said child care criteria --   \n",
       "222758                                             Okay .   \n",
       "222759      -- and I think we both listed an experience .   \n",
       "222760                                             Yeah .   \n",
       "222761                                             Okay .   \n",
       "222762                                     Well , great .   \n",
       "222763                              Well , thanks a lot .   \n",
       "222764                              You have a good day .   \n",
       "222765                                      And you too .   \n",
       "222766                                          Bye-bye .   \n",
       "222767                                              Bye .   \n",
       "\n",
       "                           labels  \n",
       "0                            rest  \n",
       "1                     Wh-Question  \n",
       "2                            rest  \n",
       "3                            rest  \n",
       "4                            rest  \n",
       "5                 Yes-No-Question  \n",
       "6           Statement-non-opinion  \n",
       "7                            rest  \n",
       "8                           Hedge  \n",
       "9                            rest  \n",
       "10                           rest  \n",
       "11                           rest  \n",
       "12                Yes-No-Question  \n",
       "13      Acknowledge (Backchannel)  \n",
       "14          Statement-non-opinion  \n",
       "15                           rest  \n",
       "16                           rest  \n",
       "17          Statement-non-opinion  \n",
       "18          Statement-non-opinion  \n",
       "19              Statement-opinion  \n",
       "20                           rest  \n",
       "21                           rest  \n",
       "22                           rest  \n",
       "23                     No answers  \n",
       "24          Statement-non-opinion  \n",
       "25          Statement-non-opinion  \n",
       "26          Statement-non-opinion  \n",
       "27          Statement-non-opinion  \n",
       "28      Acknowledge (Backchannel)  \n",
       "29                           rest  \n",
       "...                           ...  \n",
       "222738      Statement-non-opinion  \n",
       "222739      Statement-non-opinion  \n",
       "222740      Statement-non-opinion  \n",
       "222741      Statement-non-opinion  \n",
       "222742  Acknowledge (Backchannel)  \n",
       "222743                       rest  \n",
       "222744      Statement-non-opinion  \n",
       "222745  Acknowledge (Backchannel)  \n",
       "222746                 Non-verbal  \n",
       "222747  Acknowledge (Backchannel)  \n",
       "222748                       rest  \n",
       "222749      Statement-non-opinion  \n",
       "222750      Statement-non-opinion  \n",
       "222751                       rest  \n",
       "222752                       rest  \n",
       "222753                       rest  \n",
       "222754                       rest  \n",
       "222755                       rest  \n",
       "222756                       rest  \n",
       "222757                       rest  \n",
       "222758                       rest  \n",
       "222759                       rest  \n",
       "222760                       rest  \n",
       "222761                       rest  \n",
       "222762                       rest  \n",
       "222763                       rest  \n",
       "222764                       rest  \n",
       "222765                       rest  \n",
       "222766                       rest  \n",
       "222767                       rest  \n",
       "\n",
       "[222768 rows x 2 columns]"
      ]
     },
     "execution_count": 60,
     "metadata": {},
     "output_type": "execute_result"
    }
   ],
   "source": [
    "data_df"
   ]
  },
  {
   "cell_type": "markdown",
   "metadata": {},
   "source": [
    "# reducing the label set"
   ]
  },
  {
   "cell_type": "markdown",
   "metadata": {},
   "source": [
    "# Divide into train and validation"
   ]
  },
  {
   "cell_type": "code",
   "execution_count": 61,
   "metadata": {
    "collapsed": false
   },
   "outputs": [],
   "source": [
    "data=np.asarray(data_df['data'])\n",
    "labels=np.asarray(data_df['labels'])\n",
    "VALIDATION_SPLIT=0.2\n",
    "indices = np.arange(data.shape[0])\n",
    "np.random.shuffle(indices)\n",
    "data = data[indices]\n",
    "labels = labels[indices]\n",
    "nb_validation_samples = int(VALIDATION_SPLIT * data.shape[0])"
   ]
  },
  {
   "cell_type": "code",
   "execution_count": 62,
   "metadata": {
    "collapsed": true
   },
   "outputs": [],
   "source": [
    "x_train = data[:-nb_validation_samples]\n",
    "y_train = labels[:-nb_validation_samples]\n",
    "x_val = data[-nb_validation_samples:]\n",
    "y_val = labels[-nb_validation_samples:]"
   ]
  },
  {
   "cell_type": "markdown",
   "metadata": {},
   "source": [
    "# Size of the vocabulary"
   ]
  },
  {
   "cell_type": "code",
   "execution_count": 63,
   "metadata": {
    "collapsed": false
   },
   "outputs": [
    {
     "name": "stdout",
     "output_type": "stream",
     "text": [
      "Found 18393 unique tokens.\n",
      "Found 10221 unique tokens.\n"
     ]
    }
   ],
   "source": [
    "tokenizer = Tokenizer()\n",
    "tokenizer.fit_on_texts(x_train)\n",
    "sequences = tokenizer.texts_to_sequences(x_train)\n",
    "word_index_train = tokenizer.word_index\n",
    "print('Found %s unique tokens.' % len(word_index_train))\n",
    "tokenizer = Tokenizer()\n",
    "tokenizer.fit_on_texts(x_val)\n",
    "sequences = tokenizer.texts_to_sequences(x_val)\n",
    "word_index_val = tokenizer.word_index\n",
    "print('Found %s unique tokens.' % len(word_index_val))"
   ]
  },
  {
   "cell_type": "markdown",
   "metadata": {},
   "source": [
    "# Size of label set"
   ]
  },
  {
   "cell_type": "code",
   "execution_count": 64,
   "metadata": {
    "collapsed": false
   },
   "outputs": [],
   "source": [
    "labels_df=pd.DataFrame(labels)"
   ]
  },
  {
   "cell_type": "code",
   "execution_count": 65,
   "metadata": {
    "collapsed": false
   },
   "outputs": [
    {
     "name": "stdout",
     "output_type": "stream",
     "text": [
      "Total labels 13\n"
     ]
    }
   ],
   "source": [
    "print 'Total labels', len(pd.Series.value_counts(labels_df[0]))"
   ]
  },
  {
   "cell_type": "code",
   "execution_count": 66,
   "metadata": {
    "collapsed": false
   },
   "outputs": [
    {
     "name": "stdout",
     "output_type": "stream",
     "text": [
      "Train labels 13\n",
      "Validation labels 13\n"
     ]
    }
   ],
   "source": [
    "y_train_df=pd.DataFrame(y_train)\n",
    "y_val_df=pd.DataFrame(y_val)\n",
    "print 'Train labels', len(pd.Series.value_counts(y_train_df[0]))\n",
    "print 'Validation labels', len(pd.Series.value_counts(y_val_df[0]))"
   ]
  },
  {
   "cell_type": "markdown",
   "metadata": {},
   "source": [
    "# Average length of utterance"
   ]
  },
  {
   "cell_type": "code",
   "execution_count": 67,
   "metadata": {
    "collapsed": false
   },
   "outputs": [
    {
     "name": "stdout",
     "output_type": "stream",
     "text": [
      "8.47214319782\n",
      "8.52990819922\n"
     ]
    }
   ],
   "source": [
    "sum=0\n",
    "for i in range(0,len(x_train)):\n",
    "    temp=x_train[i].split(' ')\n",
    "    sum=sum+len(temp)\n",
    "len_train=sum/len(x_train)\n",
    "print len_train\n",
    "sum=0\n",
    "for i in range(0,len(x_val)):\n",
    "    temp=x_val[i].split(' ')\n",
    "    sum=sum+len(temp)\n",
    "len_val=sum/len(x_val)\n",
    "print len_val"
   ]
  },
  {
   "cell_type": "markdown",
   "metadata": {
    "collapsed": true
   },
   "source": [
    "# Represent in the form of table"
   ]
  },
  {
   "cell_type": "code",
   "execution_count": 68,
   "metadata": {
    "collapsed": false
   },
   "outputs": [
    {
     "data": {
      "text/html": [
       "<div>\n",
       "<table border=\"1\" class=\"dataframe\">\n",
       "  <thead>\n",
       "    <tr style=\"text-align: right;\">\n",
       "      <th></th>\n",
       "      <th>M</th>\n",
       "      <th>D</th>\n",
       "      <th>L</th>\n",
       "      <th>C</th>\n",
       "      <th>W</th>\n",
       "    </tr>\n",
       "  </thead>\n",
       "  <tbody>\n",
       "    <tr>\n",
       "      <th>Train</th>\n",
       "      <td>178215.0</td>\n",
       "      <td>18393.0</td>\n",
       "      <td>13.0</td>\n",
       "      <td>1.0</td>\n",
       "      <td>8.472143</td>\n",
       "    </tr>\n",
       "    <tr>\n",
       "      <th>Test</th>\n",
       "      <td>44553.0</td>\n",
       "      <td>10221.0</td>\n",
       "      <td>13.0</td>\n",
       "      <td>1.0</td>\n",
       "      <td>8.529908</td>\n",
       "    </tr>\n",
       "  </tbody>\n",
       "</table>\n",
       "</div>"
      ],
      "text/plain": [
       "              M        D     L    C         W\n",
       "Train  178215.0  18393.0  13.0  1.0  8.472143\n",
       "Test    44553.0  10221.0  13.0  1.0  8.529908"
      ]
     },
     "execution_count": 68,
     "metadata": {},
     "output_type": "execute_result"
    }
   ],
   "source": [
    "np.set_printoptions(suppress=True)\n",
    "table=np.array([[len(x_train),len(word_index_train),len(pd.Series.value_counts(y_train_df[0])),1,len_train],[len(x_val),len(word_index_val),len(pd.Series.value_counts(y_val_df[0])),1,len_val]])\n",
    "table_df=pd.DataFrame(table,index=['Train','Test'],columns=['M','D','L','C','W'])\n",
    "table_df"
   ]
  },
  {
   "cell_type": "code",
   "execution_count": 69,
   "metadata": {
    "collapsed": false
   },
   "outputs": [
    {
     "name": "stdout",
     "output_type": "stream",
     "text": [
      "M: Number of Utterances, D: Size of Vocabulary, L: Size of label set, C: Average number of labels per utterance, M: Average length of Utterance\n"
     ]
    }
   ],
   "source": [
    "print 'M: Number of Utterances, D: Size of Vocabulary, L: Size of label set, C: Average number of labels per utterance, M: Average length of Utterance'"
   ]
  },
  {
   "cell_type": "code",
   "execution_count": 70,
   "metadata": {
    "collapsed": false
   },
   "outputs": [
    {
     "data": {
      "text/plain": [
       "Statement-non-opinion        75143\n",
       "rest                         66589\n",
       "Acknowledge (Backchannel)    38298\n",
       "Statement-opinion            26426\n",
       "Yes-No-Question               4726\n",
       "Non-verbal                    3630\n",
       "Yes answers                   3034\n",
       "Wh-Question                   1979\n",
       "No answers                    1377\n",
       "Hedge                         1226\n",
       "Self-talk                      181\n",
       "Declarative Wh-Question         80\n",
       "Apology                         79\n",
       "Name: 0, dtype: int64"
      ]
     },
     "execution_count": 70,
     "metadata": {},
     "output_type": "execute_result"
    }
   ],
   "source": [
    "count=pd.Series.value_counts(labels_df[0])\n",
    "count"
   ]
  },
  {
   "cell_type": "code",
   "execution_count": 71,
   "metadata": {
    "collapsed": false
   },
   "outputs": [],
   "source": [
    "index=list(count.index)"
   ]
  },
  {
   "cell_type": "code",
   "execution_count": 72,
   "metadata": {
    "collapsed": false
   },
   "outputs": [
    {
     "data": {
      "image/png": "[encoded data removed]",
      "text/plain": [
       "<matplotlib.figure.Figure at 0x1418de710>"
      ]
     },
     "metadata": {},
     "output_type": "display_data"
    }
   ],
   "source": [
    "index=len(index)\n",
    "index=np.arange(index)\n",
    "means_men=list(count.values)\n",
    "bar_width = 2\n",
    "opacity = 0.2\n",
    "rects1 = plt.bar(index, means_men, bar_width,\n",
    "                 alpha=opacity,\n",
    "                 color='b',\n",
    "                 label='Count')\n",
    "plt.show()"
   ]
  },
  {
   "cell_type": "code",
   "execution_count": null,
   "metadata": {
    "collapsed": true
   },
   "outputs": [],
   "source": []
  },
  {
   "cell_type": "code",
   "execution_count": null,
   "metadata": {
    "collapsed": true
   },
   "outputs": [],
   "source": []
  },
  {
   "cell_type": "code",
   "execution_count": null,
   "metadata": {
    "collapsed": true
   },
   "outputs": [],
   "source": []
  }
 ],
 "metadata": {
  "anaconda-cloud": {},
  "kernelspec": {
   "display_name": "Python [conda root]",
   "language": "python",
   "name": "conda-root-py"
  },
  "language_info": {
   "codemirror_mode": {
    "name": "ipython",
    "version": 2
   },
   "file_extension": ".py",
   "mimetype": "text/x-python",
   "name": "python",
   "nbconvert_exporter": "python",
   "pygments_lexer": "ipython2",
   "version": "2.7.12"
  }
 },
 "nbformat": 4,
 "nbformat_minor": 1
}
