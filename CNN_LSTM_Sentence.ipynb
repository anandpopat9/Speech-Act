{
 "cells": [
  {
   "cell_type": "code",
   "execution_count": 57,
   "metadata": {},
   "outputs": [],
   "source": [
    "from keras import utils as np_utils\n",
    "from keras.preprocessing.text import Tokenizer\n",
    "from keras.preprocessing.sequence import pad_sequences\n",
    "import numpy as np\n",
    "import pandas as pd\n",
    "from keras.layers import Embedding, Merge, LSTM, GRU, Reshape\n",
    "from keras.layers import Input, Dense, Dropout, TimeDistributed\n",
    "from keras.layers import Conv1D, MaxPooling1D, GlobalMaxPooling1D\n",
    "from keras.models import Model\n",
    "from keras.layers.core import Flatten\n",
    "import pickle\n",
    "from keras.models import Sequential\n",
    "import os\n",
    "from keras.engine.topology import Layer"
   ]
  },
  {
   "cell_type": "code",
   "execution_count": 60,
   "metadata": {},
   "outputs": [],
   "source": [
    "f=open('data/reduced_data.pkl','rb')\n",
    "data=pickle.load(f)\n",
    "f.close()"
   ]
  },
  {
   "cell_type": "code",
   "execution_count": 61,
   "metadata": {},
   "outputs": [],
   "source": [
    "df=pd.DataFrame(data,columns=['data','labels'])"
   ]
  },
  {
   "cell_type": "code",
   "execution_count": 62,
   "metadata": {},
   "outputs": [],
   "source": [
    "data=df['data'].tolist()\n",
    "labels=df['labels'].tolist()"
   ]
  },
  {
   "cell_type": "markdown",
   "metadata": {},
   "source": [
    "# Tokenize the data (strings)"
   ]
  },
  {
   "cell_type": "code",
   "execution_count": 63,
   "metadata": {},
   "outputs": [],
   "source": [
    "tokenizer = Tokenizer()\n",
    "tokenizer.fit_on_texts(data)\n",
    "sequences = tokenizer.texts_to_sequences(data)"
   ]
  },
  {
   "cell_type": "markdown",
   "metadata": {},
   "source": [
    "# Turn target variables to numerical"
   ]
  },
  {
   "cell_type": "code",
   "execution_count": 64,
   "metadata": {},
   "outputs": [],
   "source": [
    "dict1={}\n",
    "inc=0\n",
    "for i in range(0,len(labels)):\n",
    "    if(labels[i] in dict1.keys()):\n",
    "        labels[i]=dict1[labels[i]]\n",
    "    else:\n",
    "        inc+=1\n",
    "        dict1[labels[i]]=inc\n",
    "        labels[i]=dict1[labels[i]]"
   ]
  },
  {
   "cell_type": "code",
   "execution_count": 65,
   "metadata": {},
   "outputs": [],
   "source": [
    "data=np.array([np.array(xi) for xi in sequences])"
   ]
  },
  {
   "cell_type": "code",
   "execution_count": 66,
   "metadata": {},
   "outputs": [],
   "source": [
    "data = pad_sequences(sequences, maxlen=81)"
   ]
  },
  {
   "cell_type": "code",
   "execution_count": 67,
   "metadata": {},
   "outputs": [
    {
     "name": "stdout",
     "output_type": "stream",
     "text": [
      "Shape of data tensor: (222768, 81)\n",
      "Shape of label tensor: (222768, 14)\n"
     ]
    }
   ],
   "source": [
    "labels = np_utils.to_categorical(np.asarray(labels))\n",
    "print('Shape of data tensor:', data.shape)\n",
    "print('Shape of label tensor:', labels.shape)"
   ]
  },
  {
   "cell_type": "markdown",
   "metadata": {},
   "source": [
    "# Divide in train and validation set"
   ]
  },
  {
   "cell_type": "code",
   "execution_count": 68,
   "metadata": {},
   "outputs": [],
   "source": [
    "VALIDATION_SPLIT=0.2\n",
    "indices = np.arange(data.shape[0])\n",
    "np.random.shuffle(indices)\n",
    "data = data[indices]\n",
    "labels = labels[indices]\n",
    "nb_validation_samples = int(VALIDATION_SPLIT * data.shape[0])"
   ]
  },
  {
   "cell_type": "code",
   "execution_count": 69,
   "metadata": {},
   "outputs": [],
   "source": [
    "x_train = data[:-nb_validation_samples]\n",
    "y_train = labels[:-nb_validation_samples]\n",
    "x_val = data[-nb_validation_samples:]\n",
    "y_val = labels[-nb_validation_samples:]"
   ]
  },
  {
   "cell_type": "code",
   "execution_count": 70,
   "metadata": {},
   "outputs": [],
   "source": [
    "number_of_samples = 4\n",
    "number_of_blocks_train = int(x_train.shape[0] / number_of_samples)\n",
    "number_of_blocks_val = int(x_val.shape[0] / number_of_samples)\n",
    "x_train_new = x_train[ : number_of_blocks_train * number_of_samples]\n",
    "y_train_new = y_train[ : number_of_blocks_train * number_of_samples]\n",
    "x_val_new = x_val[ : number_of_blocks_val * number_of_samples]\n",
    "y_val_new = y_val[ : number_of_blocks_val * number_of_samples]"
   ]
  },
  {
   "cell_type": "code",
   "execution_count": 71,
   "metadata": {},
   "outputs": [],
   "source": [
    "x_train_reshaped = x_train_new.reshape(number_of_blocks_train,number_of_samples,81)\n",
    "y_train_reshaped = y_train_new.reshape(number_of_blocks_train,number_of_samples,14)\n",
    "\n",
    "x_val_reshaped = x_val_new.reshape(number_of_blocks_val,number_of_samples,81)\n",
    "y_val_reshaped = y_val_new.reshape(number_of_blocks_val,number_of_samples,14)"
   ]
  },
  {
   "cell_type": "code",
   "execution_count": 34,
   "metadata": {},
   "outputs": [
    {
     "name": "stdout",
     "output_type": "stream",
     "text": [
      "Found 400000 word vectors.\n"
     ]
    }
   ],
   "source": [
    "GLOVE_DIR='glove/'\n",
    "embeddings_index = {}\n",
    "f = open(os.path.join(GLOVE_DIR, 'glove.6B.300d.txt'), encoding='utf-8')\n",
    "for line in f:\n",
    "    values = line.split()\n",
    "    word = values[0]\n",
    "    coefs = np.asarray(values[1:], dtype='float32')\n",
    "    embeddings_index[word] = coefs\n",
    "f.close()\n",
    "print('Found %s word vectors.' % len(embeddings_index))"
   ]
  },
  {
   "cell_type": "code",
   "execution_count": 72,
   "metadata": {},
   "outputs": [],
   "source": [
    "embedding_dim = 300\n",
    "word_index = tokenizer.word_index\n",
    "embedding_matrix = np.zeros((len(word_index) + 1, embedding_dim))\n",
    "null_vectors=0\n",
    "total=0\n",
    "for word, i in word_index.items():\n",
    "    total+=1\n",
    "    embedding_vector = embeddings_index.get(word)\n",
    "    if embedding_vector is not None:\n",
    "        # words not found in embedding index will be all-zeros.\n",
    "        embedding_matrix[i] = embedding_vector\n",
    "    else:\n",
    "        null_vectors+=1"
   ]
  },
  {
   "cell_type": "code",
   "execution_count": 73,
   "metadata": {},
   "outputs": [],
   "source": [
    "hidden_dim = 128\n",
    "word_index = tokenizer.word_index\n",
    "n_sentences = x_train_reshaped.shape[1]  # number of sentences in a sample (n)\n",
    "n_words = x_train_reshaped.shape[2]  # number of words in a sentence\n",
    "embedding_layer = Embedding(len(word_index) + 1, embedding_dim, weights=[embedding_matrix], input_length = n_words * n_sentences )"
   ]
  },
  {
   "cell_type": "markdown",
   "metadata": {},
   "source": [
    "# Sentence level RNN"
   ]
  },
  {
   "cell_type": "code",
   "execution_count": 74,
   "metadata": {},
   "outputs": [
    {
     "name": "stderr",
     "output_type": "stream",
     "text": [
      "c:\\users\\mugdha_ans\\appdata\\local\\conda\\conda\\envs\\tensorflow\\lib\\site-packages\\ipykernel_launcher.py:15: UserWarning: The `Merge` layer is deprecated and will be removed after 08/2017. Use instead layers from `keras.layers.merge`, e.g. `add`, `concatenate`, etc.\n",
      "  from ipykernel import kernelapp as app\n"
     ]
    }
   ],
   "source": [
    "sequence_input = Input(shape=(n_sentences, n_words), dtype='int32')\n",
    "sequence_input_r = Reshape((n_sentences * n_words,),input_shape = (n_sentences, n_words))(sequence_input)\n",
    "embedded_sequences = embedding_layer(sequence_input_r)\n",
    "embedded_sequences_r = Reshape((n_sentences, n_words, embedding_dim))(embedded_sequences)\n",
    "conv1d_3 = TimeDistributed(Conv1D(filters = 200, kernel_size = 3, activation = 'relu'))(embedded_sequences_r)\n",
    "max_3 = TimeDistributed(GlobalMaxPooling1D()) (conv1d_3)                         \n",
    "conv1d_4 = TimeDistributed(Conv1D(filters = 200, kernel_size = 4, activation = 'relu'))(embedded_sequences_r)\n",
    "max_4 = TimeDistributed(GlobalMaxPooling1D()) (conv1d_4)                                 \n",
    "conv1d_5 = TimeDistributed(Conv1D(filters = 200, kernel_size = 5, activation = 'relu'))(embedded_sequences_r)\n",
    "max_5 = TimeDistributed(GlobalMaxPooling1D()) (conv1d_5)\n",
    "convs = []\n",
    "convs.append(max_3)\n",
    "convs.append(max_4)\n",
    "convs.append(max_5)\n",
    "l_merge = Merge(mode='concat')(convs)\n",
    "lstm_out = GRU(hidden_dim, return_sequences=True)(l_merge)\n",
    "preds = TimeDistributed(Dense(14,activation='softmax'))(lstm_out)"
   ]
  },
  {
   "cell_type": "code",
   "execution_count": 75,
   "metadata": {},
   "outputs": [
    {
     "name": "stdout",
     "output_type": "stream",
     "text": [
      "__________________________________________________________________________________________________\n",
      "Layer (type)                    Output Shape         Param #     Connected to                     \n",
      "==================================================================================================\n",
      "input_7 (InputLayer)            (None, 4, 81)        0                                            \n",
      "__________________________________________________________________________________________________\n",
      "reshape_13 (Reshape)            (None, 324)          0           input_7[0][0]                    \n",
      "__________________________________________________________________________________________________\n",
      "embedding_4 (Embedding)         (None, 324, 300)     5978700     reshape_13[0][0]                 \n",
      "__________________________________________________________________________________________________\n",
      "reshape_14 (Reshape)            (None, 4, 81, 300)   0           embedding_4[0][0]                \n",
      "__________________________________________________________________________________________________\n",
      "time_distributed_42 (TimeDistri (None, 4, 79, 200)   180200      reshape_14[0][0]                 \n",
      "__________________________________________________________________________________________________\n",
      "time_distributed_44 (TimeDistri (None, 4, 78, 200)   240200      reshape_14[0][0]                 \n",
      "__________________________________________________________________________________________________\n",
      "time_distributed_46 (TimeDistri (None, 4, 77, 200)   300200      reshape_14[0][0]                 \n",
      "__________________________________________________________________________________________________\n",
      "time_distributed_43 (TimeDistri (None, 4, 200)       0           time_distributed_42[0][0]        \n",
      "__________________________________________________________________________________________________\n",
      "time_distributed_45 (TimeDistri (None, 4, 200)       0           time_distributed_44[0][0]        \n",
      "__________________________________________________________________________________________________\n",
      "time_distributed_47 (TimeDistri (None, 4, 200)       0           time_distributed_46[0][0]        \n",
      "__________________________________________________________________________________________________\n",
      "merge_7 (Merge)                 (None, 4, 600)       0           time_distributed_43[0][0]        \n",
      "                                                                 time_distributed_45[0][0]        \n",
      "                                                                 time_distributed_47[0][0]        \n",
      "__________________________________________________________________________________________________\n",
      "gru_2 (GRU)                     (None, 4, 128)       279936      merge_7[0][0]                    \n",
      "__________________________________________________________________________________________________\n",
      "time_distributed_48 (TimeDistri (None, 4, 14)        1806        gru_2[0][0]                      \n",
      "==================================================================================================\n",
      "Total params: 6,981,042\n",
      "Trainable params: 6,981,042\n",
      "Non-trainable params: 0\n",
      "__________________________________________________________________________________________________\n",
      "None\n",
      "Train on 44553 samples, validate on 11138 samples\n",
      "Epoch 1/1\n",
      "44553/44553 [==============================] - 5216s 117ms/step - loss: 0.8422 - acc: 0.6760 - val_loss: 0.7710 - val_acc: 0.6988\n"
     ]
    },
    {
     "data": {
      "text/plain": [
       "<keras.callbacks.History at 0x261386a1860>"
      ]
     },
     "execution_count": 75,
     "metadata": {},
     "output_type": "execute_result"
    }
   ],
   "source": [
    "model = Model(sequence_input, preds)\n",
    "model.compile(optimizer='adagrad', loss='categorical_crossentropy', metrics=['acc'])\n",
    "print(model.summary())\n",
    "model.fit(x_train_reshaped, y_train_reshaped, validation_data=(x_val_reshaped, y_val_reshaped), epochs=1, batch_size=32)"
   ]
  },
  {
   "cell_type": "code",
   "execution_count": null,
   "metadata": {
    "collapsed": true
   },
   "outputs": [],
   "source": []
  }
 ],
 "metadata": {
  "anaconda-cloud": {},
  "kernelspec": {
   "display_name": "Python 3",
   "language": "python",
   "name": "python3"
  },
  "language_info": {
   "codemirror_mode": {
    "name": "ipython",
    "version": 3
   },
   "file_extension": ".py",
   "mimetype": "text/x-python",
   "name": "python",
   "nbconvert_exporter": "python",
   "pygments_lexer": "ipython3",
   "version": "3.6.3"
  }
 },
 "nbformat": 4,
 "nbformat_minor": 1
}
