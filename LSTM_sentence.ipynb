{
 "cells": [
  {
   "cell_type": "code",
   "execution_count": 35,
   "metadata": {},
   "outputs": [],
   "source": [
    "from keras import utils as np_utils\n",
    "from keras.preprocessing.text import Tokenizer\n",
    "from keras.preprocessing.sequence import pad_sequences\n",
    "import numpy as np\n",
    "import pandas as pd\n",
    "from keras.layers import Embedding, Merge, LSTM, GRU, Reshape\n",
    "from keras.layers import Input, Dense, Dropout, TimeDistributed\n",
    "from keras.layers import Conv1D, MaxPooling1D, GlobalMaxPooling1D\n",
    "from keras.models import Model\n",
    "from keras.layers.core import Flatten\n",
    "import pickle\n",
    "from keras.models import Sequential\n",
    "import os\n",
    "from keras.engine.topology import Layer"
   ]
  },
  {
   "cell_type": "code",
   "execution_count": 68,
   "metadata": {},
   "outputs": [],
   "source": [
    "f=open('data/reduced_data.pkl','rb')\n",
    "data=pickle.load(f)\n",
    "f.close()"
   ]
  },
  {
   "cell_type": "code",
   "execution_count": 69,
   "metadata": {},
   "outputs": [],
   "source": [
    "df=pd.DataFrame(data,columns=['data','labels'])"
   ]
  },
  {
   "cell_type": "code",
   "execution_count": 70,
   "metadata": {},
   "outputs": [],
   "source": [
    "data=df['data'].tolist()\n",
    "labels=df['labels'].tolist()"
   ]
  },
  {
   "cell_type": "markdown",
   "metadata": {},
   "source": [
    "# Tokenize the data (strings)"
   ]
  },
  {
   "cell_type": "code",
   "execution_count": 56,
   "metadata": {},
   "outputs": [],
   "source": [
    "tokenizer = Tokenizer()\n",
    "tokenizer.fit_on_texts(data)\n",
    "sequences = tokenizer.texts_to_sequences(data)"
   ]
  },
  {
   "cell_type": "markdown",
   "metadata": {},
   "source": [
    "# Turn target variables to numerical"
   ]
  },
  {
   "cell_type": "code",
   "execution_count": 57,
   "metadata": {},
   "outputs": [],
   "source": [
    "dict1={}\n",
    "inc=0\n",
    "for i in range(0,len(labels)):\n",
    "    if(labels[i] in dict1.keys()):\n",
    "        labels[i]=dict1[labels[i]]\n",
    "    else:\n",
    "        inc+=1\n",
    "        dict1[labels[i]]=inc\n",
    "        labels[i]=dict1[labels[i]]"
   ]
  },
  {
   "cell_type": "code",
   "execution_count": 58,
   "metadata": {},
   "outputs": [],
   "source": [
    "data=np.array([np.array(xi) for xi in sequences])"
   ]
  },
  {
   "cell_type": "code",
   "execution_count": 59,
   "metadata": {},
   "outputs": [],
   "source": [
    "data = pad_sequences(sequences, maxlen=81)"
   ]
  },
  {
   "cell_type": "code",
   "execution_count": 60,
   "metadata": {},
   "outputs": [
    {
     "name": "stdout",
     "output_type": "stream",
     "text": [
      "Shape of data tensor: (222768, 81)\n",
      "Shape of label tensor: (222768, 14)\n"
     ]
    }
   ],
   "source": [
    "labels = np_utils.to_categorical(np.asarray(labels))\n",
    "print('Shape of data tensor:', data.shape)\n",
    "print('Shape of label tensor:', labels.shape)"
   ]
  },
  {
   "cell_type": "markdown",
   "metadata": {},
   "source": [
    "# Divide in train and validation set"
   ]
  },
  {
   "cell_type": "code",
   "execution_count": 61,
   "metadata": {},
   "outputs": [],
   "source": [
    "VALIDATION_SPLIT=0.2\n",
    "indices = np.arange(data.shape[0])\n",
    "np.random.shuffle(indices)\n",
    "data = data[indices]\n",
    "labels = labels[indices]\n",
    "nb_validation_samples = int(VALIDATION_SPLIT * data.shape[0])"
   ]
  },
  {
   "cell_type": "code",
   "execution_count": 62,
   "metadata": {},
   "outputs": [],
   "source": [
    "x_train = data[:-nb_validation_samples]\n",
    "y_train = labels[:-nb_validation_samples]\n",
    "x_val = data[-nb_validation_samples:]\n",
    "y_val = labels[-nb_validation_samples:]"
   ]
  },
  {
   "cell_type": "code",
   "execution_count": 63,
   "metadata": {},
   "outputs": [],
   "source": [
    "number_of_samples = 4\n",
    "number_of_blocks_train = int(x_train.shape[0] / number_of_samples)\n",
    "number_of_blocks_val = int(x_val.shape[0] / number_of_samples)\n",
    "x_train_new = x_train[ : number_of_blocks_train * number_of_samples]\n",
    "y_train_new = y_train[ : number_of_blocks_train * number_of_samples]\n",
    "\n",
    "x_val_new = x_val[ : number_of_blocks_val * number_of_samples]\n",
    "y_val_new = y_val[ : number_of_blocks_val * number_of_samples]"
   ]
  },
  {
   "cell_type": "code",
   "execution_count": 64,
   "metadata": {},
   "outputs": [],
   "source": [
    "x_train_reshaped = x_train_new.reshape(number_of_blocks_train,number_of_samples,81)\n",
    "y_train_reshaped = y_train_new.reshape(number_of_blocks_train,number_of_samples,14)\n",
    "\n",
    "x_val_reshaped = x_val_new.reshape(number_of_blocks_val,number_of_samples,81)\n",
    "y_val_reshaped = y_val_new.reshape(number_of_blocks_val,number_of_samples,14)"
   ]
  },
  {
   "cell_type": "markdown",
   "metadata": {},
   "source": [
    "# Sentence level RNN"
   ]
  },
  {
   "cell_type": "code",
   "execution_count": 65,
   "metadata": {},
   "outputs": [],
   "source": [
    "embedding_dim = 300\n",
    "hidden_dim = 128\n",
    "word_index = tokenizer.word_index\n",
    "n_sentences = x_train_reshaped.shape[1]  # number of sentences in a sample (n)\n",
    "n_words = x_train_reshaped.shape[2]  # number of words in a sentence\n",
    "\n",
    "model = Sequential()\n",
    "model.add(Reshape((n_sentences * n_words,),input_shape = (n_sentences, n_words)))\n",
    "model.add(Embedding(len(word_index) + 1, embedding_dim, input_length = n_words * n_sentences ))\n",
    "model.add(Reshape((n_sentences, n_words, embedding_dim))) \n",
    "model.add(TimeDistributed(GRU(hidden_dim)))\n",
    "model.add(GRU(hidden_dim, return_sequences=True))\n",
    "model.add(TimeDistributed(Dense(14,activation='softmax')))"
   ]
  },
  {
   "cell_type": "code",
   "execution_count": 66,
   "metadata": {},
   "outputs": [
    {
     "name": "stdout",
     "output_type": "stream",
     "text": [
      "_________________________________________________________________\n",
      "Layer (type)                 Output Shape              Param #   \n",
      "=================================================================\n",
      "reshape_13 (Reshape)         (None, 324)               0         \n",
      "_________________________________________________________________\n",
      "embedding_7 (Embedding)      (None, 324, 300)          5978700   \n",
      "_________________________________________________________________\n",
      "reshape_14 (Reshape)         (None, 4, 81, 300)        0         \n",
      "_________________________________________________________________\n",
      "time_distributed_11 (TimeDis (None, 4, 128)            164736    \n",
      "_________________________________________________________________\n",
      "gru_6 (GRU)                  (None, 4, 128)            98688     \n",
      "_________________________________________________________________\n",
      "time_distributed_12 (TimeDis (None, 4, 14)             1806      \n",
      "=================================================================\n",
      "Total params: 6,243,930\n",
      "Trainable params: 6,243,930\n",
      "Non-trainable params: 0\n",
      "_________________________________________________________________\n",
      "None\n",
      "Train on 44553 samples, validate on 11138 samples\n",
      "Epoch 1/1\n",
      "44553/44553 [==============================] - 1517s 34ms/step - loss: 0.8794 - acc: 0.6631 - val_loss: 0.7906 - val_acc: 0.6876\n"
     ]
    },
    {
     "data": {
      "text/plain": [
       "<keras.callbacks.History at 0x2a61a6132b0>"
      ]
     },
     "execution_count": 66,
     "metadata": {},
     "output_type": "execute_result"
    }
   ],
   "source": [
    "model.compile(optimizer='adagrad', loss='categorical_crossentropy', metrics=['acc'])\n",
    "print(model.summary())\n",
    "model.fit(x_train_reshaped, y_train_reshaped, validation_data=(x_val_reshaped, y_val_reshaped), epochs=1, batch_size=64)"
   ]
  },
  {
   "cell_type": "code",
   "execution_count": null,
   "metadata": {
    "collapsed": true
   },
   "outputs": [],
   "source": []
  }
 ],
 "metadata": {
  "anaconda-cloud": {},
  "kernelspec": {
   "display_name": "Python 3",
   "language": "python",
   "name": "python3"
  },
  "language_info": {
   "codemirror_mode": {
    "name": "ipython",
    "version": 3
   },
   "file_extension": ".py",
   "mimetype": "text/x-python",
   "name": "python",
   "nbconvert_exporter": "python",
   "pygments_lexer": "ipython3",
   "version": "3.6.3"
  }
 },
 "nbformat": 4,
 "nbformat_minor": 1
}
